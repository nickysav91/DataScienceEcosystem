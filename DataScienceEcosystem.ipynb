{
 "cells": [
  {
   "cell_type": "markdown",
   "id": "c48639aa-37c2-46fb-bbe5-93ae3441c355",
   "metadata": {},
   "source": [
    "Data Science Tools and Ecosystem\n",
    "\n",
    "\n"
   ]
  },
  {
   "cell_type": "markdown",
   "id": "239d9200-75dc-4ce8-84eb-cf4d7ee47590",
   "metadata": {},
   "source": [
    "In this notebook, Data Science Tools and Ecosystem are summarized.\n",
    "\n",
    "\n"
   ]
  },
  {
   "cell_type": "markdown",
   "id": "064ecc7b-8390-4303-aeec-8196cd020687",
   "metadata": {},
   "source": [
    "Some of the popular languages that Data Scientists use are:\n",
    "1) Python\n",
    "2) Scala\n",
    "3) Java"
   ]
  },
  {
   "cell_type": "markdown",
   "id": "795db097-bf54-47a3-9eda-bf0dca190520",
   "metadata": {},
   "source": [
    "Some of the commonly used libraries used by Data Scientists include:\n",
    "1) TensorFlow\n",
    "2) Bob\n",
    "3) Pandas \n"
   ]
  },
  {
   "cell_type": "markdown",
   "id": "ca1be434-e6c6-41c5-bdc1-f305a9cae171",
   "metadata": {},
   "source": [
    "|Data Science Tools|\n",
    "|------------------|\n",
    "| Weka             |\n",
    "| Scrapy           |\n",
    "| Pandas           |"
   ]
  },
  {
   "cell_type": "markdown",
   "id": "a04c8ced-f2fc-4c67-8445-adf594c5fa3f",
   "metadata": {},
   "source": [
    "Below are a few examples of evaluating arithmetic expressions in Python \n",
    "\n"
   ]
  },
  {
   "cell_type": "code",
   "execution_count": 1,
   "id": "5b64f6fc-ca4e-4eb2-99ba-2238df7ed4c8",
   "metadata": {},
   "outputs": [
    {
     "data": {
      "text/plain": [
       "17"
      ]
     },
     "execution_count": 1,
     "metadata": {},
     "output_type": "execute_result"
    }
   ],
   "source": [
    "# This a simple arithmetic expression to mutiply then add integers\n",
    "(3*4)+5\n"
   ]
  },
  {
   "cell_type": "code",
   "execution_count": 2,
   "id": "0560e6cd-1810-443a-a30e-4a360c67db45",
   "metadata": {},
   "outputs": [
    {
     "data": {
      "text/plain": [
       "3.3333333333333335"
      ]
     },
     "execution_count": 2,
     "metadata": {},
     "output_type": "execute_result"
    }
   ],
   "source": [
    "# This will convert 200 minutes to hours by diving by 60\n",
    "200/60 "
   ]
  },
  {
   "cell_type": "markdown",
   "id": "2c93c972-975b-4ac5-91ea-668149066cb8",
   "metadata": {},
   "source": [
    "Objectives:\n",
    "• Python\n",
    "• Scala\n",
    "• Java"
   ]
  },
  {
   "cell_type": "markdown",
   "id": "5c48c64a-91b7-4604-bdda-364a342342bc",
   "metadata": {},
   "source": [
    "## Author: \n",
    "Nicholas Savarese "
   ]
  }
 ],
 "metadata": {
  "kernelspec": {
   "display_name": "Python",
   "language": "python",
   "name": "conda-env-python-py"
  },
  "language_info": {
   "codemirror_mode": {
    "name": "ipython",
    "version": 3
   },
   "file_extension": ".py",
   "mimetype": "text/x-python",
   "name": "python",
   "nbconvert_exporter": "python",
   "pygments_lexer": "ipython3",
   "version": "3.7.12"
  }
 },
 "nbformat": 4,
 "nbformat_minor": 5
}
